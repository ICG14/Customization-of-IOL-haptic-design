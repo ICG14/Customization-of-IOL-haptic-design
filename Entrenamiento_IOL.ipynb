{
 "cells": [
  {
   "cell_type": "code",
   "execution_count": null,
   "id": "0bb0df44",
   "metadata": {},
   "outputs": [],
   "source": [
    "\"\"\"\n",
    "Created on Mon Feb 10 21:30:54 2020\n",
    "\n",
    "@author: IULEN\n",
    "\"\"\""
   ]
  },
  {
   "cell_type": "code",
   "execution_count": null,
   "id": "08a2dc48",
   "metadata": {},
   "outputs": [],
   "source": [
    "from __future__ import absolute_import, division, print_function, unicode_literals"
   ]
  },
  {
   "cell_type": "code",
   "execution_count": null,
   "id": "a17098f2",
   "metadata": {},
   "outputs": [],
   "source": [
    "import pathlib"
   ]
  },
  {
   "cell_type": "code",
   "execution_count": null,
   "id": "1a8f7ebd",
   "metadata": {},
   "outputs": [],
   "source": [
    "import numpy as np"
   ]
  },
  {
   "cell_type": "code",
   "execution_count": null,
   "id": "d9800871",
   "metadata": {},
   "outputs": [],
   "source": [
    "import matplotlib.pyplot as plt\n",
    "import pandas as pd\n",
    "import seaborn as sns"
   ]
  },
  {
   "cell_type": "code",
   "execution_count": null,
   "id": "961f693f",
   "metadata": {},
   "outputs": [],
   "source": [
    "import tensorflow as tf"
   ]
  },
  {
   "cell_type": "code",
   "execution_count": null,
   "id": "55d7c653",
   "metadata": {},
   "outputs": [],
   "source": [
    "from tensorflow import keras\n",
    "from tensorflow.keras import layers"
   ]
  },
  {
   "cell_type": "code",
   "execution_count": null,
   "id": "3b66c2c5",
   "metadata": {},
   "outputs": [],
   "source": [
    "from sklearn.metrics import mean_squared_error\n",
    "from sklearn.preprocessing import MinMaxScaler"
   ]
  },
  {
   "cell_type": "code",
   "execution_count": null,
   "id": "8f07893b",
   "metadata": {
    "lines_to_next_cell": 2
   },
   "outputs": [],
   "source": [
    "from keras.models import Model"
   ]
  },
  {
   "cell_type": "code",
   "execution_count": null,
   "id": "c019b9a2",
   "metadata": {},
   "outputs": [],
   "source": [
    "print(tf.__version__)"
   ]
  },
  {
   "cell_type": "code",
   "execution_count": null,
   "id": "69f0ed04",
   "metadata": {},
   "outputs": [],
   "source": []
  },
  {
   "cell_type": "code",
   "execution_count": null,
   "id": "b456afdd",
   "metadata": {},
   "outputs": [],
   "source": [
    "column_names = ['Width of the haptic','Haptic length','Start of the haptic curvature','Junction',\n",
    "                'Angle of the haptic','Thickness', 'close',\n",
    "                'Reaction Force', 'Axial Displacement', 'Rotation','Tilt', 'Strain Energy']"
   ]
  },
  {
   "cell_type": "code",
   "execution_count": null,
   "id": "e24169bd",
   "metadata": {
    "lines_to_next_cell": 2
   },
   "outputs": [],
   "source": [
    "dataset = pd.read_csv(\"magia2.csv\", names=column_names, index_col=False,\n",
    "                      na_values = \"?\", comment='\\t',\n",
    "                      sep=\",\", skipinitialspace=True)"
   ]
  },
  {
   "cell_type": "code",
   "execution_count": null,
   "id": "21466e08",
   "metadata": {
    "lines_to_next_cell": 2
   },
   "outputs": [],
   "source": [
    "dataset.tail()"
   ]
  },
  {
   "cell_type": "code",
   "execution_count": null,
   "id": "df24fe27",
   "metadata": {},
   "outputs": [],
   "source": [
    "dataset.isna().sum()\n",
    "dataset = dataset.dropna()"
   ]
  },
  {
   "cell_type": "code",
   "execution_count": null,
   "id": "e2fede98",
   "metadata": {},
   "outputs": [],
   "source": [
    "#Más preprocesado\n",
    "dataset = dataset.drop(dataset[dataset['Reaction Force']<1].index)\n",
    "dataset.pop('Haptic length')\n",
    "dataset.pop('Angle of the haptic')\n",
    "#dataset.pop('Rotation')\n",
    "#dataset.pop('Tilt')\n",
    "#dataset.pop('Reaction Force')\n",
    "#dataset.pop('Strain Energy')"
   ]
  },
  {
   "cell_type": "code",
   "execution_count": null,
   "id": "73a93071",
   "metadata": {},
   "outputs": [],
   "source": [
    "#train_dataset = dataset\n",
    "dataset.describe().transpose()"
   ]
  },
  {
   "cell_type": "code",
   "execution_count": null,
   "id": "6bdbf5e1",
   "metadata": {},
   "outputs": [],
   "source": [
    "data_label = dataset.copy()"
   ]
  },
  {
   "cell_type": "code",
   "execution_count": null,
   "id": "ee929d76",
   "metadata": {},
   "outputs": [],
   "source": [
    "train_labels1 = data_label.pop('Reaction Force')\n",
    "train_labels4 = data_label.pop('Tilt')\n",
    "train_labels3 = data_label.pop('Rotation')\n",
    "train_labels5 = data_label.pop('Strain Energy')\n",
    "train_labels2 = data_label.pop('Axial Displacement')"
   ]
  },
  {
   "cell_type": "code",
   "execution_count": null,
   "id": "e9845be1",
   "metadata": {},
   "outputs": [],
   "source": [
    "output_label = pd.concat([train_labels1, train_labels2, train_labels3 , train_labels4 , train_labels5], axis=1,)"
   ]
  },
  {
   "cell_type": "markdown",
   "id": "63c865d3",
   "metadata": {
    "lines_to_next_cell": 2
   },
   "source": [
    "train_label.pop('Rotation')\n",
    "test_label.pop('Rotation')\n"
   ]
  },
  {
   "cell_type": "code",
   "execution_count": null,
   "id": "1d906b88",
   "metadata": {
    "lines_to_next_cell": 1
   },
   "outputs": [],
   "source": [
    "data_stats = data_label.describe().transpose()"
   ]
  },
  {
   "cell_type": "code",
   "execution_count": null,
   "id": "8d7670bd",
   "metadata": {
    "lines_to_next_cell": 2
   },
   "outputs": [],
   "source": [
    "def normalizingInput(x):\n",
    "  return (x - data_stats['min']) / (data_stats['max'] - data_stats['min'])"
   ]
  },
  {
   "cell_type": "markdown",
   "id": "b3ef8cde",
   "metadata": {},
   "source": [
    "def desnormalizingInput(x):\n",
    " return (x *  (data_stats['max'] - data_stats['min']) + data_stats['min'])\n",
    "output_stats = output_label.describe().transpose()\n",
    "def normalizingOutput(x):\n",
    " return (x - output_stats['min']) / (output_stats['max'] - output_stats['min'])\n",
    "def desnormalizingOutput(x):\n",
    " return (x *  (output_stats['max'] - output_stats['min']) + output_stats['min'])"
   ]
  },
  {
   "cell_type": "code",
   "execution_count": null,
   "id": "4412c2f1",
   "metadata": {},
   "outputs": [],
   "source": []
  },
  {
   "cell_type": "code",
   "execution_count": null,
   "id": "224cd212",
   "metadata": {},
   "outputs": [],
   "source": [
    "train_dataset = dataset.sample(frac=0.8,random_state=0)\n",
    "test_dataset = dataset.drop(train_dataset.index)"
   ]
  },
  {
   "cell_type": "code",
   "execution_count": null,
   "id": "8c7dbd12",
   "metadata": {},
   "outputs": [],
   "source": []
  },
  {
   "cell_type": "markdown",
   "id": "626da076",
   "metadata": {},
   "source": [
    "sns.pairplot(train_dataset[['Reaction Force', 'Axial Displacement', 'Rotation','Tilt', \n",
    "                                'Strain Energy']], diag_kind=\"kde\")\n",
    "sns.pairplot(train_dataset[['Width of the haptic','Start of the haptic curvature','Junction',\n",
    "                               'Thickness']], diag_kind=\"kde\")"
   ]
  },
  {
   "cell_type": "code",
   "execution_count": null,
   "id": "a27d0516",
   "metadata": {},
   "outputs": [],
   "source": [
    "train_labels1 = train_dataset.pop('Reaction Force')\n",
    "test_labels1 = test_dataset.pop('Reaction Force')\n",
    "train_labels4 = train_dataset.pop('Tilt')\n",
    "test_labels4 = test_dataset.pop('Tilt')\n",
    "train_labels3 = train_dataset.pop('Rotation')\n",
    "test_labels3 = test_dataset.pop('Rotation')\n",
    "train_labels5 = train_dataset.pop('Strain Energy')\n",
    "test_labels5 = test_dataset.pop('Strain Energy')\n",
    "train_labels2 = train_dataset.pop('Axial Displacement')\n",
    "test_labels2 = test_dataset.pop('Axial Displacement')"
   ]
  },
  {
   "cell_type": "code",
   "execution_count": null,
   "id": "5deb1cfe",
   "metadata": {},
   "outputs": [],
   "source": [
    "train_label = pd.concat([train_labels1, train_labels2, train_labels3 , train_labels4 , train_labels5], axis=1,)\n",
    "test_label = pd.concat([test_labels1, test_labels2 ,test_labels3, test_labels4 , test_labels5], axis=1,)"
   ]
  },
  {
   "cell_type": "code",
   "execution_count": null,
   "id": "12a244a9",
   "metadata": {},
   "outputs": [],
   "source": []
  },
  {
   "cell_type": "code",
   "execution_count": null,
   "id": "79d27aee",
   "metadata": {},
   "outputs": [],
   "source": [
    "norm_data_train = normalizingInput(train_dataset)\n",
    "#norm_output_train = normalizingOutput(train_label)\n",
    "norm_data_test = normalizingInput(test_dataset)\n",
    "#norm_output_test = normalizingOutput(test_label)"
   ]
  },
  {
   "cell_type": "code",
   "execution_count": null,
   "id": "1e3e5b44",
   "metadata": {},
   "outputs": [],
   "source": []
  },
  {
   "cell_type": "code",
   "execution_count": null,
   "id": "22975b62",
   "metadata": {
    "lines_to_next_cell": 1
   },
   "outputs": [],
   "source": [
    "def custom_loss(y_true, y_pred):\n",
    "\n",
    "    # I am pretty sure this does not wor\n",
    "    mse_loss = y_true-y_pred\n",
    "#    cross_entropy_loss = K.dot(K.transpose(label_prob_dist), output_prob_dist)\n",
    "\n",
    "    return y_true[:1]"
   ]
  },
  {
   "cell_type": "code",
   "execution_count": null,
   "id": "c2abea1e",
   "metadata": {},
   "outputs": [],
   "source": [
    "def custom_loss2(y_true, y_pred):\n",
    "\n",
    "    # I am pretty sure this does not wor\n",
    "    mse_loss = y_true-y_pred\n",
    "#    cross_entropy_loss = K.dot(K.transpose(label_prob_dist), output_prob_dist)\n",
    "\n",
    "    return y_pred[:2]"
   ]
  },
  {
   "cell_type": "code",
   "execution_count": null,
   "id": "657b726e",
   "metadata": {
    "lines_to_next_cell": 2
   },
   "outputs": [],
   "source": []
  },
  {
   "cell_type": "markdown",
   "id": "964862ac",
   "metadata": {},
   "source": [
    "out_dim = train_label.shape[1]"
   ]
  },
  {
   "cell_type": "code",
   "execution_count": null,
   "id": "64f15ba3",
   "metadata": {},
   "outputs": [],
   "source": [
    "model = keras.Sequential([\n",
    "    layers.Dense(1024, activation='relu', input_shape=[len(norm_data_train.keys())]),\n",
    "    layers.Dropout(0.3),\n",
    "    layers.Dense(1024, activation='relu'),\n",
    "    layers.Dropout(0.3),\n",
    "    layers.Dense(5),\n",
    "    ])"
   ]
  },
  {
   "cell_type": "code",
   "execution_count": null,
   "id": "5bd74278",
   "metadata": {},
   "outputs": [],
   "source": [
    "optimizer = tf.keras.optimizers.Adam(lr=0.001, beta_1=0.9, beta_2=0.999, epsilon=None, decay=0.0, amsgrad=False)\n",
    "#model = Model(inputs=norm_data_train.keys(), outputs=train_label.keys())"
   ]
  },
  {
   "cell_type": "code",
   "execution_count": null,
   "id": "4df6a8e4",
   "metadata": {},
   "outputs": [],
   "source": [
    "model.compile(loss='mae',\n",
    "                optimizer=optimizer,\n",
    "                metrics=['mae', custom_loss, custom_loss2],\n",
    "#                loss_weights={'Reaction Force':0.1, 'Axial Displacement':1, 'Rotation':1,'Tilt':1, 'Strain Energy':1}\n",
    "                )"
   ]
  },
  {
   "cell_type": "code",
   "execution_count": null,
   "id": "6d33cd25",
   "metadata": {},
   "outputs": [],
   "source": []
  },
  {
   "cell_type": "markdown",
   "id": "31d6995d",
   "metadata": {
    "lines_to_next_cell": 2
   },
   "source": [
    "model = keras.layers.input(inputs=norm_data_train.keys())\n",
    "model = keras.layers.outputs(train_label.keys())"
   ]
  },
  {
   "cell_type": "code",
   "execution_count": null,
   "id": "1a11749f",
   "metadata": {},
   "outputs": [],
   "source": [
    "#model = build_model()\n",
    "model.summary()"
   ]
  },
  {
   "cell_type": "markdown",
   "id": "fc241b54",
   "metadata": {},
   "source": [
    "example_batch = norm_data_train[:10]\n",
    "example_result = model.predict(example_batch)\n",
    "example_result"
   ]
  },
  {
   "cell_type": "code",
   "execution_count": null,
   "id": "c35deec8",
   "metadata": {
    "lines_to_next_cell": 1
   },
   "outputs": [],
   "source": [
    "# Display training progress by printing a single dot for each completed epoch\n",
    "class PrintDot(keras.callbacks.Callback):\n",
    "  def on_epoch_end(self, epoch, logs):\n",
    "    if epoch % 100 == 0: print('')\n",
    "    print('.', end='')"
   ]
  },
  {
   "cell_type": "code",
   "execution_count": null,
   "id": "7609879e",
   "metadata": {
    "lines_to_next_cell": 1
   },
   "outputs": [],
   "source": [
    "def plot_history(history):\n",
    "  hist = pd.DataFrame(history.history)\n",
    "  hist['epoch'] = history.epoch\n",
    "  plt.figure(figsize=(12,8))\n",
    "  plt.xlabel('Epoch')\n",
    "  plt.ylabel('Mean Abs Error [All responses]')\n",
    "  plt.plot(hist['epoch'], hist['mae'],\n",
    "           label='Train Error')\n",
    "  plt.plot(hist['epoch'], hist['val_mae'],\n",
    "           label = 'Val Error')\n",
    "#  plt.ylim([0,0.2])\n",
    "  plt.legend()"
   ]
  },
  {
   "cell_type": "markdown",
   "id": "fd044c1a",
   "metadata": {},
   "source": [
    " plt.figure()\n",
    " plt.xlabel('Epoch')\n",
    " plt.ylabel('Mean Abs Error [MPG]')\n",
    " plt.plot(hist['epoch'], hist['mape'],\n",
    "          label='Train Error')\n",
    " plt.plot(hist['epoch'], hist['val_mape'],\n",
    "          label = 'Val Error')\n",
    " plt.ylim([0,100000000])\n",
    " plt.legend()"
   ]
  },
  {
   "cell_type": "code",
   "execution_count": null,
   "id": "09cd05ff",
   "metadata": {},
   "outputs": [],
   "source": [
    "  plt.figure(figsize=(12,8))\n",
    "  plt.xlabel('Epoch')\n",
    "  plt.ylabel('Mean Square Error [All responses]')\n",
    "  plt.plot(hist['epoch'], hist['mse'],\n",
    "           label='Train Error')\n",
    "  plt.plot(hist['epoch'], hist['val_mse'],\n",
    "           label = 'Val Error')\n",
    "#  plt.ylim([0,0.1])\n",
    "  plt.legend()\n",
    "  plt.show()"
   ]
  },
  {
   "cell_type": "code",
   "execution_count": null,
   "id": "e33a4dd9",
   "metadata": {},
   "outputs": [],
   "source": []
  },
  {
   "cell_type": "code",
   "execution_count": null,
   "id": "04bf4af3",
   "metadata": {},
   "outputs": [],
   "source": []
  },
  {
   "cell_type": "code",
   "execution_count": null,
   "id": "75dd4eef",
   "metadata": {},
   "outputs": [],
   "source": [
    "# The patience parameter is the amount of epochs to check for improvement\n",
    "early_stop = keras.callbacks.EarlyStopping(monitor='val_loss', patience=20)"
   ]
  },
  {
   "cell_type": "code",
   "execution_count": null,
   "id": "744192fb",
   "metadata": {},
   "outputs": [],
   "source": [
    "EPOCHS = 50"
   ]
  },
  {
   "cell_type": "code",
   "execution_count": null,
   "id": "6ad9033d",
   "metadata": {
    "lines_to_next_cell": 2
   },
   "outputs": [],
   "source": [
    "history = model.fit(norm_data_train, train_label, epochs=EPOCHS, batch_size=128,\n",
    "                    validation_split = 0.2, verbose=1, callbacks=[PrintDot()])\n",
    "#history = model.fit(norm_data_train, norm_output_train, epochs=EPOCHS, batch_size=64,\n",
    "#                    validation_split = 0.2, verbose=1, callbacks=[PrintDot()])"
   ]
  },
  {
   "cell_type": "code",
   "execution_count": null,
   "id": "ccc39129",
   "metadata": {
    "lines_to_next_cell": 2
   },
   "outputs": [],
   "source": [
    "hist = pd.DataFrame(history.history)\n",
    "hist['epoch'] = history.epoch\n",
    "hist.tail()"
   ]
  },
  {
   "cell_type": "code",
   "execution_count": null,
   "id": "d64685c4",
   "metadata": {},
   "outputs": [],
   "source": [
    "plot_history(history)"
   ]
  },
  {
   "cell_type": "code",
   "execution_count": null,
   "id": "54a5bca4",
   "metadata": {},
   "outputs": [],
   "source": []
  },
  {
   "cell_type": "code",
   "execution_count": null,
   "id": "c28fe193",
   "metadata": {},
   "outputs": [],
   "source": []
  },
  {
   "cell_type": "code",
   "execution_count": null,
   "id": "d3dda203",
   "metadata": {},
   "outputs": [],
   "source": [
    "loss, mae, mse = model.evaluate(test_dataset, test_label, verbose=2)\n",
    "print(\"Testing set Mean Abs Error: {:5.2f} MPG\".format(mae))"
   ]
  },
  {
   "cell_type": "markdown",
   "id": "26ecd2b7",
   "metadata": {
    "lines_to_next_cell": 2
   },
   "source": [
    "% mean_squared_error(ytest[:,0], ypred[:,0])\n",
    "print(\"Testing set Mean Abs Error: {:5.2f} MPG\" % mean_squared_error(test_label[:,1]))"
   ]
  },
  {
   "cell_type": "code",
   "execution_count": null,
   "id": "950cffc6",
   "metadata": {},
   "outputs": [],
   "source": [
    "test_predictions = model.predict(norm_data_test)"
   ]
  },
  {
   "cell_type": "code",
   "execution_count": null,
   "id": "3c152843",
   "metadata": {},
   "outputs": [],
   "source": [
    "Response_names = ['Reaction Force', 'Tilt', 'Rotation','Strain Energy', 'Axial Displacement']\n",
    "test_predictions=pd.DataFrame (test_predictions, columns = Response_names)"
   ]
  },
  {
   "cell_type": "code",
   "execution_count": null,
   "id": "bfc8ebb9",
   "metadata": {},
   "outputs": [],
   "source": []
  },
  {
   "cell_type": "code",
   "execution_count": null,
   "id": "ec1e84c8",
   "metadata": {
    "lines_to_next_cell": 2
   },
   "outputs": [],
   "source": [
    "test_Predictions=desnormalizingOutput(test_predictions)"
   ]
  },
  {
   "cell_type": "code",
   "execution_count": null,
   "id": "4e1e6cc2",
   "metadata": {
    "lines_to_next_cell": 2
   },
   "outputs": [],
   "source": [
    "plt.figure(figsize=(12,8))\n",
    "name=['Tilt']\n",
    "plt.scatter(test_label[name], test_Predictions[name])\n",
    "plt.xlabel('True Values'+ str(name))\n",
    "plt.ylabel('Predictions' + str(name))\n",
    "plt.axis('equal')\n",
    "plt.axis('square')\n",
    "#plt.xlim([0,plt.xlim()[1]])\n",
    "#plt.ylim([0,plt.ylim()[1]])\n",
    "_ = plt.plot([-1000, 1000], [-1000, 1000])"
   ]
  },
  {
   "cell_type": "code",
   "execution_count": null,
   "id": "0592a784",
   "metadata": {},
   "outputs": [],
   "source": [
    "error = (test_Predictions[name].to_numpy() - test_label[name].to_numpy() )\n",
    "plt.hist(error, bins = 25)\n",
    "plt.xlabel(\"Prediction Error [MPG]\")\n",
    "_ = plt.ylabel(\"Count\")"
   ]
  },
  {
   "cell_type": "code",
   "execution_count": null,
   "id": "f1cce2e8",
   "metadata": {},
   "outputs": [],
   "source": []
  },
  {
   "cell_type": "code",
   "execution_count": null,
   "id": "12a2e30c",
   "metadata": {},
   "outputs": [],
   "source": [
    "# Saves the entire model into a file named as 'dnn_model.h5'\n",
    "model.save('C-loop_v1.h5')\n",
    "# Later, (maybe another day), you can load the trained model for prediction.\n",
    "#model = load_model('dnn_model.h5')"
   ]
  },
  {
   "cell_type": "code",
   "execution_count": null,
   "id": "519d02a4",
   "metadata": {},
   "outputs": [],
   "source": []
  }
 ],
 "metadata": {
  "jupytext": {
   "cell_metadata_filter": "-all",
   "encoding": "# -*- coding: utf-8 -*-",
   "main_language": "python",
   "notebook_metadata_filter": "-all"
  }
 },
 "nbformat": 4,
 "nbformat_minor": 5
}
